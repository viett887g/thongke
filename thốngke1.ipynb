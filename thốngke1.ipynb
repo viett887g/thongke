{
  "nbformat": 4,
  "nbformat_minor": 0,
  "metadata": {
    "colab": {
      "name": "thốngke1.ipynb",
      "provenance": [],
      "collapsed_sections": [],
      "mount_file_id": "1jaR7AXoXbmP3rLCX318orjdZrtM5mf3c",
      "authorship_tag": "ABX9TyPRmuNCPDAwyFVep5uBnTpm",
      "include_colab_link": true
    },
    "kernelspec": {
      "name": "python3",
      "display_name": "Python 3"
    },
    "language_info": {
      "name": "python"
    }
  },
  "cells": [
    {
      "cell_type": "markdown",
      "metadata": {
        "id": "view-in-github",
        "colab_type": "text"
      },
      "source": [
        "<a href=\"https://colab.research.google.com/github/viett887g/thongke/blob/main/th%E1%BB%91ngke1.ipynb\" target=\"_parent\"><img src=\"https://colab.research.google.com/assets/colab-badge.svg\" alt=\"Open In Colab\"/></a>"
      ]
    },
    {
      "cell_type": "code",
      "execution_count": 1,
      "metadata": {
        "colab": {
          "base_uri": "https://localhost:8080/"
        },
        "id": "R_04PR9TsOmR",
        "outputId": "688f5965-b27b-48b1-eb0b-0b4b8721b8b0"
      },
      "outputs": [
        {
          "output_type": "stream",
          "name": "stdout",
          "text": [
            "Mounted at /content/gdrive\n"
          ]
        }
      ],
      "source": [
        "from google.colab import drive\n",
        "drive.mount('/content/gdrive')"
      ]
    },
    {
      "cell_type": "code",
      "source": [
        "import pandas as pd"
      ],
      "metadata": {
        "id": "DobZ6VWcvoTr"
      },
      "execution_count": 17,
      "outputs": []
    },
    {
      "cell_type": "code",
      "source": [
        "df = pd.read_csv('/content/gdrive/MyDrive/appsheet/data/BAITAPEXCEL1_23xlsx-5110130-21-11-11/1000 Sales Records.csv')"
      ],
      "metadata": {
        "id": "UaYSE6cPC7ZU"
      },
      "execution_count": 5,
      "outputs": []
    },
    {
      "cell_type": "code",
      "source": [
        "print(df)"
      ],
      "metadata": {
        "colab": {
          "base_uri": "https://localhost:8080/"
        },
        "id": "w9gRmiG-C-Yp",
        "outputId": "4f5efc88-f16b-4b0a-b1ae-44a159943a99"
      },
      "execution_count": 6,
      "outputs": [
        {
          "output_type": "stream",
          "name": "stdout",
          "text": [
            "                           Region               Country   Item Type  \\\n",
            "0    Middle East and North Africa                 Libya   Cosmetics   \n",
            "1                   North America                Canada  Vegetables   \n",
            "2    Middle East and North Africa                 Libya   Baby Food   \n",
            "3                            Asia                 Japan      Cereal   \n",
            "4              Sub-Saharan Africa                  Chad      Fruits   \n",
            "..                            ...                   ...         ...   \n",
            "995  Middle East and North Africa            Azerbaijan      Snacks   \n",
            "996                        Europe               Georgia   Baby Food   \n",
            "997  Middle East and North Africa  United Arab Emirates  Vegetables   \n",
            "998                        Europe               Finland   Household   \n",
            "999                        Europe              Portugal      Cereal   \n",
            "\n",
            "    Sales Channel Order Priority  Order Date   Order ID   Ship Date  \\\n",
            "0         Offline              M  10/18/2014  686800706  10/31/2014   \n",
            "1          Online              M   11/7/2011  185941302   12/8/2011   \n",
            "2         Offline              C  10/31/2016  246222341   12/9/2016   \n",
            "3         Offline              C   4/10/2010  161442649   5/12/2010   \n",
            "4         Offline              H   8/16/2011  645713555   8/31/2011   \n",
            "..            ...            ...         ...        ...         ...   \n",
            "995       Offline              C   4/18/2010  534085166   4/25/2010   \n",
            "996       Offline              H    8/1/2011  590768182    9/7/2011   \n",
            "997        Online              C   5/12/2011  524363124   6/28/2011   \n",
            "998       Offline              L   1/25/2016  289606320   2/14/2016   \n",
            "999       Offline              C   4/10/2014  811546599    5/8/2014   \n",
            "\n",
            "     Units Sold  Unit Price  Unit Cost  Total Revenue  Total Cost  \\\n",
            "0          8446      437.20     263.33     3692591.20  2224085.18   \n",
            "1          3018      154.06      90.93      464953.08   274426.74   \n",
            "2          1517      255.28     159.42      387259.76   241840.14   \n",
            "3          3322      205.70     117.11      683335.40   389039.42   \n",
            "4          9845        9.33       6.92       91853.85    68127.40   \n",
            "..          ...         ...        ...            ...         ...   \n",
            "995        6524      152.58      97.44      995431.92   635698.56   \n",
            "996         288      255.28     159.42       73520.64    45912.96   \n",
            "997        9556      154.06      90.93     1472197.36   868927.08   \n",
            "998        9801      668.27     502.54     6549714.27  4925394.54   \n",
            "999        3528      205.70     117.11      725709.60   413164.08   \n",
            "\n",
            "     Total Profit  \n",
            "0      1468506.02  \n",
            "1       190526.34  \n",
            "2       145419.62  \n",
            "3       294295.98  \n",
            "4        23726.45  \n",
            "..            ...  \n",
            "995     359733.36  \n",
            "996      27607.68  \n",
            "997     603270.28  \n",
            "998    1624319.73  \n",
            "999     312545.52  \n",
            "\n",
            "[1000 rows x 14 columns]\n"
          ]
        }
      ]
    },
    {
      "cell_type": "code",
      "source": [
        "Hiển thị 10 hàng đầu tiên của tập dữ liệu (gợi ý: hàm head() );"
      ],
      "metadata": {
        "id": "7iEnyEioD48f"
      },
      "execution_count": null,
      "outputs": []
    },
    {
      "cell_type": "code",
      "source": [
        "df.head(10)"
      ],
      "metadata": {
        "colab": {
          "base_uri": "https://localhost:8080/",
          "height": 667
        },
        "id": "BJmjEkOiDA1S",
        "outputId": "94dcd1ca-bfb5-4154-ff67-ccfe49a7d3aa"
      },
      "execution_count": 7,
      "outputs": [
        {
          "output_type": "execute_result",
          "data": {
            "text/plain": [
              "                              Region     Country   Item Type Sales Channel  \\\n",
              "0       Middle East and North Africa       Libya   Cosmetics       Offline   \n",
              "1                      North America      Canada  Vegetables        Online   \n",
              "2       Middle East and North Africa       Libya   Baby Food       Offline   \n",
              "3                               Asia       Japan      Cereal       Offline   \n",
              "4                 Sub-Saharan Africa        Chad      Fruits       Offline   \n",
              "5                             Europe     Armenia      Cereal        Online   \n",
              "6                 Sub-Saharan Africa     Eritrea      Cereal        Online   \n",
              "7                             Europe  Montenegro     Clothes       Offline   \n",
              "8  Central America and the Caribbean     Jamaica  Vegetables        Online   \n",
              "9              Australia and Oceania        Fiji  Vegetables       Offline   \n",
              "\n",
              "  Order Priority  Order Date   Order ID   Ship Date  Units Sold  Unit Price  \\\n",
              "0              M  10/18/2014  686800706  10/31/2014        8446      437.20   \n",
              "1              M   11/7/2011  185941302   12/8/2011        3018      154.06   \n",
              "2              C  10/31/2016  246222341   12/9/2016        1517      255.28   \n",
              "3              C   4/10/2010  161442649   5/12/2010        3322      205.70   \n",
              "4              H   8/16/2011  645713555   8/31/2011        9845        9.33   \n",
              "5              H  11/24/2014  683458888  12/28/2014        9528      205.70   \n",
              "6              H    3/4/2015  679414975   4/17/2015        2844      205.70   \n",
              "7              M   5/17/2012  208630645   6/28/2012        7299      109.28   \n",
              "8              H   1/29/2015  266467225    3/7/2015        2428      154.06   \n",
              "9              H  12/24/2013  118598544   1/19/2014        4800      154.06   \n",
              "\n",
              "   Unit Cost  Total Revenue  Total Cost  Total Profit  \n",
              "0     263.33     3692591.20  2224085.18    1468506.02  \n",
              "1      90.93      464953.08   274426.74     190526.34  \n",
              "2     159.42      387259.76   241840.14     145419.62  \n",
              "3     117.11      683335.40   389039.42     294295.98  \n",
              "4       6.92       91853.85    68127.40      23726.45  \n",
              "5     117.11     1959909.60  1115824.08     844085.52  \n",
              "6     117.11      585010.80   333060.84     251949.96  \n",
              "7      35.84      797634.72   261596.16     536038.56  \n",
              "8      90.93      374057.68   220778.04     153279.64  \n",
              "9      90.93      739488.00   436464.00     303024.00  "
            ],
            "text/html": [
              "\n",
              "  <div id=\"df-7631c640-ffa0-4166-9b7d-22ac211a6f75\">\n",
              "    <div class=\"colab-df-container\">\n",
              "      <div>\n",
              "<style scoped>\n",
              "    .dataframe tbody tr th:only-of-type {\n",
              "        vertical-align: middle;\n",
              "    }\n",
              "\n",
              "    .dataframe tbody tr th {\n",
              "        vertical-align: top;\n",
              "    }\n",
              "\n",
              "    .dataframe thead th {\n",
              "        text-align: right;\n",
              "    }\n",
              "</style>\n",
              "<table border=\"1\" class=\"dataframe\">\n",
              "  <thead>\n",
              "    <tr style=\"text-align: right;\">\n",
              "      <th></th>\n",
              "      <th>Region</th>\n",
              "      <th>Country</th>\n",
              "      <th>Item Type</th>\n",
              "      <th>Sales Channel</th>\n",
              "      <th>Order Priority</th>\n",
              "      <th>Order Date</th>\n",
              "      <th>Order ID</th>\n",
              "      <th>Ship Date</th>\n",
              "      <th>Units Sold</th>\n",
              "      <th>Unit Price</th>\n",
              "      <th>Unit Cost</th>\n",
              "      <th>Total Revenue</th>\n",
              "      <th>Total Cost</th>\n",
              "      <th>Total Profit</th>\n",
              "    </tr>\n",
              "  </thead>\n",
              "  <tbody>\n",
              "    <tr>\n",
              "      <th>0</th>\n",
              "      <td>Middle East and North Africa</td>\n",
              "      <td>Libya</td>\n",
              "      <td>Cosmetics</td>\n",
              "      <td>Offline</td>\n",
              "      <td>M</td>\n",
              "      <td>10/18/2014</td>\n",
              "      <td>686800706</td>\n",
              "      <td>10/31/2014</td>\n",
              "      <td>8446</td>\n",
              "      <td>437.20</td>\n",
              "      <td>263.33</td>\n",
              "      <td>3692591.20</td>\n",
              "      <td>2224085.18</td>\n",
              "      <td>1468506.02</td>\n",
              "    </tr>\n",
              "    <tr>\n",
              "      <th>1</th>\n",
              "      <td>North America</td>\n",
              "      <td>Canada</td>\n",
              "      <td>Vegetables</td>\n",
              "      <td>Online</td>\n",
              "      <td>M</td>\n",
              "      <td>11/7/2011</td>\n",
              "      <td>185941302</td>\n",
              "      <td>12/8/2011</td>\n",
              "      <td>3018</td>\n",
              "      <td>154.06</td>\n",
              "      <td>90.93</td>\n",
              "      <td>464953.08</td>\n",
              "      <td>274426.74</td>\n",
              "      <td>190526.34</td>\n",
              "    </tr>\n",
              "    <tr>\n",
              "      <th>2</th>\n",
              "      <td>Middle East and North Africa</td>\n",
              "      <td>Libya</td>\n",
              "      <td>Baby Food</td>\n",
              "      <td>Offline</td>\n",
              "      <td>C</td>\n",
              "      <td>10/31/2016</td>\n",
              "      <td>246222341</td>\n",
              "      <td>12/9/2016</td>\n",
              "      <td>1517</td>\n",
              "      <td>255.28</td>\n",
              "      <td>159.42</td>\n",
              "      <td>387259.76</td>\n",
              "      <td>241840.14</td>\n",
              "      <td>145419.62</td>\n",
              "    </tr>\n",
              "    <tr>\n",
              "      <th>3</th>\n",
              "      <td>Asia</td>\n",
              "      <td>Japan</td>\n",
              "      <td>Cereal</td>\n",
              "      <td>Offline</td>\n",
              "      <td>C</td>\n",
              "      <td>4/10/2010</td>\n",
              "      <td>161442649</td>\n",
              "      <td>5/12/2010</td>\n",
              "      <td>3322</td>\n",
              "      <td>205.70</td>\n",
              "      <td>117.11</td>\n",
              "      <td>683335.40</td>\n",
              "      <td>389039.42</td>\n",
              "      <td>294295.98</td>\n",
              "    </tr>\n",
              "    <tr>\n",
              "      <th>4</th>\n",
              "      <td>Sub-Saharan Africa</td>\n",
              "      <td>Chad</td>\n",
              "      <td>Fruits</td>\n",
              "      <td>Offline</td>\n",
              "      <td>H</td>\n",
              "      <td>8/16/2011</td>\n",
              "      <td>645713555</td>\n",
              "      <td>8/31/2011</td>\n",
              "      <td>9845</td>\n",
              "      <td>9.33</td>\n",
              "      <td>6.92</td>\n",
              "      <td>91853.85</td>\n",
              "      <td>68127.40</td>\n",
              "      <td>23726.45</td>\n",
              "    </tr>\n",
              "    <tr>\n",
              "      <th>5</th>\n",
              "      <td>Europe</td>\n",
              "      <td>Armenia</td>\n",
              "      <td>Cereal</td>\n",
              "      <td>Online</td>\n",
              "      <td>H</td>\n",
              "      <td>11/24/2014</td>\n",
              "      <td>683458888</td>\n",
              "      <td>12/28/2014</td>\n",
              "      <td>9528</td>\n",
              "      <td>205.70</td>\n",
              "      <td>117.11</td>\n",
              "      <td>1959909.60</td>\n",
              "      <td>1115824.08</td>\n",
              "      <td>844085.52</td>\n",
              "    </tr>\n",
              "    <tr>\n",
              "      <th>6</th>\n",
              "      <td>Sub-Saharan Africa</td>\n",
              "      <td>Eritrea</td>\n",
              "      <td>Cereal</td>\n",
              "      <td>Online</td>\n",
              "      <td>H</td>\n",
              "      <td>3/4/2015</td>\n",
              "      <td>679414975</td>\n",
              "      <td>4/17/2015</td>\n",
              "      <td>2844</td>\n",
              "      <td>205.70</td>\n",
              "      <td>117.11</td>\n",
              "      <td>585010.80</td>\n",
              "      <td>333060.84</td>\n",
              "      <td>251949.96</td>\n",
              "    </tr>\n",
              "    <tr>\n",
              "      <th>7</th>\n",
              "      <td>Europe</td>\n",
              "      <td>Montenegro</td>\n",
              "      <td>Clothes</td>\n",
              "      <td>Offline</td>\n",
              "      <td>M</td>\n",
              "      <td>5/17/2012</td>\n",
              "      <td>208630645</td>\n",
              "      <td>6/28/2012</td>\n",
              "      <td>7299</td>\n",
              "      <td>109.28</td>\n",
              "      <td>35.84</td>\n",
              "      <td>797634.72</td>\n",
              "      <td>261596.16</td>\n",
              "      <td>536038.56</td>\n",
              "    </tr>\n",
              "    <tr>\n",
              "      <th>8</th>\n",
              "      <td>Central America and the Caribbean</td>\n",
              "      <td>Jamaica</td>\n",
              "      <td>Vegetables</td>\n",
              "      <td>Online</td>\n",
              "      <td>H</td>\n",
              "      <td>1/29/2015</td>\n",
              "      <td>266467225</td>\n",
              "      <td>3/7/2015</td>\n",
              "      <td>2428</td>\n",
              "      <td>154.06</td>\n",
              "      <td>90.93</td>\n",
              "      <td>374057.68</td>\n",
              "      <td>220778.04</td>\n",
              "      <td>153279.64</td>\n",
              "    </tr>\n",
              "    <tr>\n",
              "      <th>9</th>\n",
              "      <td>Australia and Oceania</td>\n",
              "      <td>Fiji</td>\n",
              "      <td>Vegetables</td>\n",
              "      <td>Offline</td>\n",
              "      <td>H</td>\n",
              "      <td>12/24/2013</td>\n",
              "      <td>118598544</td>\n",
              "      <td>1/19/2014</td>\n",
              "      <td>4800</td>\n",
              "      <td>154.06</td>\n",
              "      <td>90.93</td>\n",
              "      <td>739488.00</td>\n",
              "      <td>436464.00</td>\n",
              "      <td>303024.00</td>\n",
              "    </tr>\n",
              "  </tbody>\n",
              "</table>\n",
              "</div>\n",
              "      <button class=\"colab-df-convert\" onclick=\"convertToInteractive('df-7631c640-ffa0-4166-9b7d-22ac211a6f75')\"\n",
              "              title=\"Convert this dataframe to an interactive table.\"\n",
              "              style=\"display:none;\">\n",
              "        \n",
              "  <svg xmlns=\"http://www.w3.org/2000/svg\" height=\"24px\"viewBox=\"0 0 24 24\"\n",
              "       width=\"24px\">\n",
              "    <path d=\"M0 0h24v24H0V0z\" fill=\"none\"/>\n",
              "    <path d=\"M18.56 5.44l.94 2.06.94-2.06 2.06-.94-2.06-.94-.94-2.06-.94 2.06-2.06.94zm-11 1L8.5 8.5l.94-2.06 2.06-.94-2.06-.94L8.5 2.5l-.94 2.06-2.06.94zm10 10l.94 2.06.94-2.06 2.06-.94-2.06-.94-.94-2.06-.94 2.06-2.06.94z\"/><path d=\"M17.41 7.96l-1.37-1.37c-.4-.4-.92-.59-1.43-.59-.52 0-1.04.2-1.43.59L10.3 9.45l-7.72 7.72c-.78.78-.78 2.05 0 2.83L4 21.41c.39.39.9.59 1.41.59.51 0 1.02-.2 1.41-.59l7.78-7.78 2.81-2.81c.8-.78.8-2.07 0-2.86zM5.41 20L4 18.59l7.72-7.72 1.47 1.35L5.41 20z\"/>\n",
              "  </svg>\n",
              "      </button>\n",
              "      \n",
              "  <style>\n",
              "    .colab-df-container {\n",
              "      display:flex;\n",
              "      flex-wrap:wrap;\n",
              "      gap: 12px;\n",
              "    }\n",
              "\n",
              "    .colab-df-convert {\n",
              "      background-color: #E8F0FE;\n",
              "      border: none;\n",
              "      border-radius: 50%;\n",
              "      cursor: pointer;\n",
              "      display: none;\n",
              "      fill: #1967D2;\n",
              "      height: 32px;\n",
              "      padding: 0 0 0 0;\n",
              "      width: 32px;\n",
              "    }\n",
              "\n",
              "    .colab-df-convert:hover {\n",
              "      background-color: #E2EBFA;\n",
              "      box-shadow: 0px 1px 2px rgba(60, 64, 67, 0.3), 0px 1px 3px 1px rgba(60, 64, 67, 0.15);\n",
              "      fill: #174EA6;\n",
              "    }\n",
              "\n",
              "    [theme=dark] .colab-df-convert {\n",
              "      background-color: #3B4455;\n",
              "      fill: #D2E3FC;\n",
              "    }\n",
              "\n",
              "    [theme=dark] .colab-df-convert:hover {\n",
              "      background-color: #434B5C;\n",
              "      box-shadow: 0px 1px 3px 1px rgba(0, 0, 0, 0.15);\n",
              "      filter: drop-shadow(0px 1px 2px rgba(0, 0, 0, 0.3));\n",
              "      fill: #FFFFFF;\n",
              "    }\n",
              "  </style>\n",
              "\n",
              "      <script>\n",
              "        const buttonEl =\n",
              "          document.querySelector('#df-7631c640-ffa0-4166-9b7d-22ac211a6f75 button.colab-df-convert');\n",
              "        buttonEl.style.display =\n",
              "          google.colab.kernel.accessAllowed ? 'block' : 'none';\n",
              "\n",
              "        async function convertToInteractive(key) {\n",
              "          const element = document.querySelector('#df-7631c640-ffa0-4166-9b7d-22ac211a6f75');\n",
              "          const dataTable =\n",
              "            await google.colab.kernel.invokeFunction('convertToInteractive',\n",
              "                                                     [key], {});\n",
              "          if (!dataTable) return;\n",
              "\n",
              "          const docLinkHtml = 'Like what you see? Visit the ' +\n",
              "            '<a target=\"_blank\" href=https://colab.research.google.com/notebooks/data_table.ipynb>data table notebook</a>'\n",
              "            + ' to learn more about interactive tables.';\n",
              "          element.innerHTML = '';\n",
              "          dataTable['output_type'] = 'display_data';\n",
              "          await google.colab.output.renderOutput(dataTable, element);\n",
              "          const docLink = document.createElement('div');\n",
              "          docLink.innerHTML = docLinkHtml;\n",
              "          element.appendChild(docLink);\n",
              "        }\n",
              "      </script>\n",
              "    </div>\n",
              "  </div>\n",
              "  "
            ]
          },
          "metadata": {},
          "execution_count": 7
        }
      ]
    },
    {
      "cell_type": "code",
      "source": [
        "Hiển thị kích thước của tập dữ liệu (gợi ý: shape)"
      ],
      "metadata": {
        "id": "ZXYOsVNSD9Kp"
      },
      "execution_count": null,
      "outputs": []
    },
    {
      "cell_type": "code",
      "source": [
        "print(df.shape)"
      ],
      "metadata": {
        "colab": {
          "base_uri": "https://localhost:8080/"
        },
        "id": "YNgUZx5lEBKi",
        "outputId": "ff601f0b-a65f-4e7a-827c-21b83b850f83"
      },
      "execution_count": 8,
      "outputs": [
        {
          "output_type": "stream",
          "name": "stdout",
          "text": [
            "(1000, 14)\n"
          ]
        }
      ]
    },
    {
      "cell_type": "code",
      "source": [
        "Hiển thị danh sách các cột(gợi ý: columns và chuyển cấu trúc Index của các\n",
        "columns về dạng list bằng hàm ép kiểu list())."
      ],
      "metadata": {
        "id": "Zh2fIxo1Ex92"
      },
      "execution_count": null,
      "outputs": []
    },
    {
      "cell_type": "code",
      "source": [
        "print(df.columns)"
      ],
      "metadata": {
        "id": "trXswzqnFWJF",
        "colab": {
          "base_uri": "https://localhost:8080/"
        },
        "outputId": "c07f4ede-0714-41da-b147-9c4e0272c0f4"
      },
      "execution_count": 9,
      "outputs": [
        {
          "output_type": "stream",
          "name": "stdout",
          "text": [
            "Index(['Region', 'Country', 'Item Type', 'Sales Channel', 'Order Priority',\n",
            "       'Order Date', 'Order ID', 'Ship Date', 'Units Sold', 'Unit Price',\n",
            "       'Unit Cost', 'Total Revenue', 'Total Cost', 'Total Profit'],\n",
            "      dtype='object')\n"
          ]
        }
      ]
    },
    {
      "cell_type": "code",
      "source": [
        "print(df.index)"
      ],
      "metadata": {
        "colab": {
          "base_uri": "https://localhost:8080/"
        },
        "id": "y5WD9aJiYv7P",
        "outputId": "e95af36a-9171-4aed-bde6-1b34814c5edf"
      },
      "execution_count": 10,
      "outputs": [
        {
          "output_type": "stream",
          "name": "stdout",
          "text": [
            "RangeIndex(start=0, stop=1000, step=1)\n"
          ]
        }
      ]
    },
    {
      "cell_type": "code",
      "source": [
        "3Trích rút dữ liệu:"
      ],
      "metadata": {
        "id": "-LwxfMfLcAGc"
      },
      "execution_count": null,
      "outputs": []
    },
    {
      "cell_type": "code",
      "source": [
        "Trích rút cột dữ liệu (định tính) – Country của tập dữ liệu, và in ra màn hình 5 hàng\n",
        "đầu tien của cột này;"
      ],
      "metadata": {
        "id": "CsayQdhzdYCK"
      },
      "execution_count": null,
      "outputs": []
    },
    {
      "cell_type": "code",
      "source": [
        "temp = df[['Country', \"Region\", \"Country\", \"Item Type\",\"Sales Channel\",\"Order Priority\"]]\n",
        "print(temp.head(5))"
      ],
      "metadata": {
        "colab": {
          "base_uri": "https://localhost:8080/"
        },
        "id": "qmvbaMsicEN7",
        "outputId": "808c3d58-ad15-4576-a248-ab6fd0d0e314"
      },
      "execution_count": 23,
      "outputs": [
        {
          "output_type": "stream",
          "name": "stdout",
          "text": [
            "  Country                        Region Country   Item Type Sales Channel  \\\n",
            "0   Libya  Middle East and North Africa   Libya   Cosmetics       Offline   \n",
            "1  Canada                 North America  Canada  Vegetables        Online   \n",
            "2   Libya  Middle East and North Africa   Libya   Baby Food       Offline   \n",
            "3   Japan                          Asia   Japan      Cereal       Offline   \n",
            "4    Chad            Sub-Saharan Africa    Chad      Fruits       Offline   \n",
            "\n",
            "  Order Priority  \n",
            "0              M  \n",
            "1              M  \n",
            "2              C  \n",
            "3              C  \n",
            "4              H  \n"
          ]
        }
      ]
    },
    {
      "cell_type": "code",
      "source": [
        "Trích rút cột dữ liệu (định lượng) – Total Cost của tập dữ liệu và in ra màn hình 5\n",
        "hàng đầu tien của cột này."
      ],
      "metadata": {
        "id": "MfwjzxNxdYpx"
      },
      "execution_count": null,
      "outputs": []
    },
    {
      "cell_type": "code",
      "source": [
        "temp = df[['Total Cost',\"Order ID\",\t\"Ship Date\",\t\"Units Sold\",\t\"Unit Price\",\"Unit Cost\"]]\n",
        "print(temp.head(5))"
      ],
      "metadata": {
        "colab": {
          "base_uri": "https://localhost:8080/"
        },
        "id": "lMmNyD4geKn2",
        "outputId": "bad8c5e9-03f7-4402-c1cd-4e42dd425d71"
      },
      "execution_count": 26,
      "outputs": [
        {
          "output_type": "stream",
          "name": "stdout",
          "text": [
            "   Total Cost   Order ID   Ship Date  Units Sold  Unit Price  Unit Cost\n",
            "0  2224085.18  686800706  10/31/2014        8446      437.20     263.33\n",
            "1   274426.74  185941302   12/8/2011        3018      154.06      90.93\n",
            "2   241840.14  246222341   12/9/2016        1517      255.28     159.42\n",
            "3   389039.42  161442649   5/12/2010        3322      205.70     117.11\n",
            "4    68127.40  645713555   8/31/2011        9845        9.33       6.92\n"
          ]
        }
      ]
    },
    {
      "cell_type": "code",
      "source": [
        "Phân tích thống kê mô tả với tập dữ liệu định lượng:"
      ],
      "metadata": {
        "id": "XeY5OfCbedF3"
      },
      "execution_count": null,
      "outputs": []
    },
    {
      "cell_type": "code",
      "source": [
        "Tính các chỉ số thống kê sau và xuất kết quả ra màn hình: (1) Số lớn nhất - max;"
      ],
      "metadata": {
        "id": "CG-wuri-ejp3"
      },
      "execution_count": null,
      "outputs": []
    },
    {
      "cell_type": "code",
      "source": [
        "print(df.min())"
      ],
      "metadata": {
        "colab": {
          "base_uri": "https://localhost:8080/"
        },
        "id": "UqTYVBVAenaW",
        "outputId": "0588df80-ebec-4e94-c0b3-396ecb547f01"
      },
      "execution_count": 27,
      "outputs": [
        {
          "output_type": "stream",
          "name": "stdout",
          "text": [
            "Region                   Asia\n",
            "Country           Afghanistan\n",
            "Item Type           Baby Food\n",
            "Sales Channel         Offline\n",
            "Order Priority              C\n",
            "Order Date           1/1/2010\n",
            "Order ID            102928006\n",
            "Ship Date            1/1/2013\n",
            "Units Sold                 13\n",
            "Unit Price               9.33\n",
            "Unit Cost                6.92\n",
            "Total Revenue         2043.25\n",
            "Total Cost            1416.75\n",
            "Total Profit           532.61\n",
            "dtype: object\n"
          ]
        }
      ]
    },
    {
      "cell_type": "code",
      "source": [
        "(2) Số nhỏ nhất - min;"
      ],
      "metadata": {
        "id": "0-dLwtrae0MA"
      },
      "execution_count": null,
      "outputs": []
    },
    {
      "cell_type": "code",
      "source": [
        "print(df.max())"
      ],
      "metadata": {
        "colab": {
          "base_uri": "https://localhost:8080/"
        },
        "id": "O9jTClusesM9",
        "outputId": "b892bbda-4072-458e-f4cc-0d15ff4b7707"
      },
      "execution_count": 28,
      "outputs": [
        {
          "output_type": "stream",
          "name": "stdout",
          "text": [
            "Region            Sub-Saharan Africa\n",
            "Country                     Zimbabwe\n",
            "Item Type                 Vegetables\n",
            "Sales Channel                 Online\n",
            "Order Priority                     M\n",
            "Order Date                  9/8/2015\n",
            "Order ID                   995529830\n",
            "Ship Date                   9/9/2016\n",
            "Units Sold                      9998\n",
            "Unit Price                    668.27\n",
            "Unit Cost                     524.96\n",
            "Total Revenue             6617209.54\n",
            "Total Cost                 5204978.4\n",
            "Total Profit              1726181.36\n",
            "dtype: object\n"
          ]
        }
      ]
    },
    {
      "cell_type": "code",
      "source": [
        "(3) Giá trị trung bình - mean"
      ],
      "metadata": {
        "id": "I6uDdDZUev0u"
      },
      "execution_count": null,
      "outputs": []
    },
    {
      "cell_type": "code",
      "source": [
        "print(df.mean())"
      ],
      "metadata": {
        "colab": {
          "base_uri": "https://localhost:8080/"
        },
        "id": "rEIc1cq2e4yc",
        "outputId": "38c1ce05-205d-40e2-9e07-f22a0e2bb79c"
      },
      "execution_count": 29,
      "outputs": [
        {
          "output_type": "stream",
          "name": "stdout",
          "text": [
            "Order ID         5.496813e+08\n",
            "Units Sold       5.053988e+03\n",
            "Unit Price       2.621068e+02\n",
            "Unit Cost        1.849651e+02\n",
            "Total Revenue    1.327322e+06\n",
            "Total Cost       9.361192e+05\n",
            "Total Profit     3.912026e+05\n",
            "dtype: float64\n"
          ]
        },
        {
          "output_type": "stream",
          "name": "stderr",
          "text": [
            "/usr/local/lib/python3.7/dist-packages/ipykernel_launcher.py:1: FutureWarning: Dropping of nuisance columns in DataFrame reductions (with 'numeric_only=None') is deprecated; in a future version this will raise TypeError.  Select only valid columns before calling the reduction.\n",
            "  \"\"\"Entry point for launching an IPython kernel.\n"
          ]
        }
      ]
    },
    {
      "cell_type": "code",
      "source": [
        "(4) Giá trị trung vị - median;"
      ],
      "metadata": {
        "id": "hP_lNf9_e8Uj"
      },
      "execution_count": null,
      "outputs": []
    },
    {
      "cell_type": "code",
      "source": [
        "print(df.median())"
      ],
      "metadata": {
        "colab": {
          "base_uri": "https://localhost:8080/"
        },
        "id": "5lWXiWM4e-v2",
        "outputId": "1d0704a1-db38-41bb-91cd-609100dc3a23"
      },
      "execution_count": 30,
      "outputs": [
        {
          "output_type": "stream",
          "name": "stdout",
          "text": [
            "Order ID         5.566097e+08\n",
            "Units Sold       5.184000e+03\n",
            "Unit Price       1.540600e+02\n",
            "Unit Cost        9.744000e+01\n",
            "Total Revenue    7.549392e+05\n",
            "Total Cost       4.647261e+05\n",
            "Total Profit     2.772260e+05\n",
            "dtype: float64\n"
          ]
        },
        {
          "output_type": "stream",
          "name": "stderr",
          "text": [
            "/usr/local/lib/python3.7/dist-packages/ipykernel_launcher.py:1: FutureWarning: Dropping of nuisance columns in DataFrame reductions (with 'numeric_only=None') is deprecated; in a future version this will raise TypeError.  Select only valid columns before calling the reduction.\n",
            "  \"\"\"Entry point for launching an IPython kernel.\n"
          ]
        }
      ]
    },
    {
      "cell_type": "code",
      "source": [
        "(5) Phương sai - variance;"
      ],
      "metadata": {
        "id": "f199Oz8kfGTU"
      },
      "execution_count": null,
      "outputs": []
    },
    {
      "cell_type": "code",
      "source": [
        "Độ lệch chuẩn - standard deviation;"
      ],
      "metadata": {
        "id": "6qGApA8EfnAr"
      },
      "execution_count": null,
      "outputs": []
    },
    {
      "cell_type": "code",
      "source": [
        "x=17"
      ],
      "metadata": {
        "id": "UWApvJQsi29R"
      },
      "execution_count": 45,
      "outputs": []
    },
    {
      "cell_type": "code",
      "source": [
        "from numpy.ma.core import std\n",
        "print(df.std())"
      ],
      "metadata": {
        "colab": {
          "base_uri": "https://localhost:8080/"
        },
        "id": "170f4C03fpcz",
        "outputId": "4a8cebd5-200c-421a-f1f0-8dc613474de6"
      },
      "execution_count": 48,
      "outputs": [
        {
          "output_type": "stream",
          "name": "stdout",
          "text": [
            "Order ID         2.571334e+08\n",
            "Units Sold       2.901375e+03\n",
            "Unit Price       2.160211e+02\n",
            "Unit Cost        1.752893e+02\n",
            "Total Revenue    1.486515e+06\n",
            "Total Cost       1.162571e+06\n",
            "Total Profit     3.836402e+05\n",
            "dtype: float64\n"
          ]
        },
        {
          "output_type": "stream",
          "name": "stderr",
          "text": [
            "/usr/local/lib/python3.7/dist-packages/ipykernel_launcher.py:2: FutureWarning: Dropping of nuisance columns in DataFrame reductions (with 'numeric_only=None') is deprecated; in a future version this will raise TypeError.  Select only valid columns before calling the reduction.\n",
            "  \n"
          ]
        }
      ]
    },
    {
      "cell_type": "code",
      "source": [
        "from numpy.ma.core import var\n",
        "print(df.var)"
      ],
      "metadata": {
        "colab": {
          "base_uri": "https://localhost:8080/"
        },
        "id": "Soo3iVpVjYc_",
        "outputId": "7700dfc6-c8f5-46b3-b746-c326167f5f0e"
      },
      "execution_count": 49,
      "outputs": [
        {
          "output_type": "stream",
          "name": "stdout",
          "text": [
            "<bound method NDFrame._add_numeric_operations.<locals>.var of                            Region               Country   Item Type  \\\n",
            "0    Middle East and North Africa                 Libya   Cosmetics   \n",
            "1                   North America                Canada  Vegetables   \n",
            "2    Middle East and North Africa                 Libya   Baby Food   \n",
            "3                            Asia                 Japan      Cereal   \n",
            "4              Sub-Saharan Africa                  Chad      Fruits   \n",
            "..                            ...                   ...         ...   \n",
            "995  Middle East and North Africa            Azerbaijan      Snacks   \n",
            "996                        Europe               Georgia   Baby Food   \n",
            "997  Middle East and North Africa  United Arab Emirates  Vegetables   \n",
            "998                        Europe               Finland   Household   \n",
            "999                        Europe              Portugal      Cereal   \n",
            "\n",
            "    Sales Channel Order Priority  Order Date   Order ID   Ship Date  \\\n",
            "0         Offline              M  10/18/2014  686800706  10/31/2014   \n",
            "1          Online              M   11/7/2011  185941302   12/8/2011   \n",
            "2         Offline              C  10/31/2016  246222341   12/9/2016   \n",
            "3         Offline              C   4/10/2010  161442649   5/12/2010   \n",
            "4         Offline              H   8/16/2011  645713555   8/31/2011   \n",
            "..            ...            ...         ...        ...         ...   \n",
            "995       Offline              C   4/18/2010  534085166   4/25/2010   \n",
            "996       Offline              H    8/1/2011  590768182    9/7/2011   \n",
            "997        Online              C   5/12/2011  524363124   6/28/2011   \n",
            "998       Offline              L   1/25/2016  289606320   2/14/2016   \n",
            "999       Offline              C   4/10/2014  811546599    5/8/2014   \n",
            "\n",
            "     Units Sold  Unit Price  Unit Cost  Total Revenue  Total Cost  \\\n",
            "0          8446      437.20     263.33     3692591.20  2224085.18   \n",
            "1          3018      154.06      90.93      464953.08   274426.74   \n",
            "2          1517      255.28     159.42      387259.76   241840.14   \n",
            "3          3322      205.70     117.11      683335.40   389039.42   \n",
            "4          9845        9.33       6.92       91853.85    68127.40   \n",
            "..          ...         ...        ...            ...         ...   \n",
            "995        6524      152.58      97.44      995431.92   635698.56   \n",
            "996         288      255.28     159.42       73520.64    45912.96   \n",
            "997        9556      154.06      90.93     1472197.36   868927.08   \n",
            "998        9801      668.27     502.54     6549714.27  4925394.54   \n",
            "999        3528      205.70     117.11      725709.60   413164.08   \n",
            "\n",
            "     Total Profit  \n",
            "0      1468506.02  \n",
            "1       190526.34  \n",
            "2       145419.62  \n",
            "3       294295.98  \n",
            "4        23726.45  \n",
            "..            ...  \n",
            "995     359733.36  \n",
            "996      27607.68  \n",
            "997     603270.28  \n",
            "998    1624319.73  \n",
            "999     312545.52  \n",
            "\n",
            "[1000 rows x 14 columns]>\n"
          ]
        }
      ]
    },
    {
      "cell_type": "code",
      "source": [
        ""
      ],
      "metadata": {
        "id": "QjnKvKuajkBu"
      },
      "execution_count": null,
      "outputs": []
    }
  ]
}